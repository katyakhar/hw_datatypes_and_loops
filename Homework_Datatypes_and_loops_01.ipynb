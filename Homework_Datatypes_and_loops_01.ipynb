{
 "cells": [
  {
   "cell_type": "code",
   "execution_count": null,
   "metadata": {},
   "outputs": [],
   "source": [
    "# Задание 1\n",
    "\n",
    "word = input('Введите слово: ')\n",
    "length = len(word)\n",
    "\n",
    "if length % 2 == 0:\n",
    "    print('Результат:', word[int((length/2)-1):int((length/2)+1)])\n",
    "else:\n",
    "    print('Результат:', word[int(length/2)])"
   ]
  },
  {
   "cell_type": "code",
   "execution_count": null,
   "metadata": {},
   "outputs": [],
   "source": [
    "# Задание 2\n",
    "\n",
    "user_input = int(input('Введите число: '))\n",
    "total = 0\n",
    "\n",
    "while True:\n",
    "    if user_input != 0:\n",
    "        total += user_input\n",
    "        user_input = int(input('Введите число: '))\n",
    "    else:\n",
    "        print('Результат:', total)\n",
    "        break"
   ]
  },
  {
   "cell_type": "code",
   "execution_count": null,
   "metadata": {},
   "outputs": [],
   "source": [
    "# Задание 3\n",
    "\n",
    "boys = ['Peter', 'Alex', 'John', 'Arthur', 'Richard']\n",
    "girls = ['Kate', 'Liza', 'Kira', 'Emma', 'Trisha']\n",
    "\n",
    "ideal_match = zip(sorted(boys), sorted(girls))\n",
    "\n",
    "if len(boys) == len(girls):\n",
    "    print('Идеальные пары:')\n",
    "    for couple in ideal_match:\n",
    "        print(f'{couple[0]} и {couple[1]}')\n",
    "else:\n",
    "    print('Внимание, кто-то может остаться без пары!') "
   ]
  },
  {
   "cell_type": "code",
   "execution_count": null,
   "metadata": {},
   "outputs": [],
   "source": [
    "# Задание 4\n",
    "\n",
    "countries_temperature = [\n",
    "    ['Thailand', [75.2, 77, 78.8, 73.4, 68, 75.2, 77]],\n",
    "    ['Germany', [57.2, 55.4, 59, 59, 53.6]],\n",
    "    ['Russia', [35.6, 37.4, 39.2, 41, 42.8, 39.2, 35.6]],\n",
    "    ['Poland', [50, 50, 53.6, 57.2, 55.4, 55.4]]\n",
    "]\n",
    "\n",
    "total = 0\n",
    "average_temperature = 0\n",
    "celcium = 0\n",
    "\n",
    "print('Средняя температура в странах:')\n",
    "for country in countries_temperature:\n",
    "    total = sum(country[1])\n",
    "    average_temperature = total / len(country[1])\n",
    "    celcium = (average_temperature - 32)*5/9\n",
    "    print(country[0], '-', round(celcium, 1), 'C')"
   ]
  },
  {
   "cell_type": "code",
   "execution_count": null,
   "metadata": {},
   "outputs": [],
   "source": [
    "# Задание 5\n",
    "\n",
    "stream = [\n",
    "    '2018-01-01,user1,3',\n",
    "    '2018-01-07,user1,4',\n",
    "    '2018-03-29,user1,1',\n",
    "    '2018-04-04,user1,13',\n",
    "    '2018-01-05,user2,7',\n",
    "    '2018-06-14,user3,4',\n",
    "    '2018-07-02,user3,10',\n",
    "    '2018-03-21,user4,19',\n",
    "    '2018-03-22,user4,4',\n",
    "    '2018-04-22,user4,8',\n",
    "    '2018-05-03,user4,9',\n",
    "    '2018-05-11,user4,11',\n",
    "]\n",
    "\n",
    "views = 0\n",
    "unique_users_list = []\n",
    "\n",
    "for i in stream:\n",
    "    views_list = i.split(',')\n",
    "    views += int(views_list[2])\n",
    "    if views_list[1] not in unique_users_list:\n",
    "        unique_users_list.append(views_list[1])\n",
    "len(unique_users_list)\n",
    "average = views / len(unique_users_list)\n",
    "print('Среднее количество просмотров на уникального пользователя:', average)"
   ]
  },
  {
   "cell_type": "code",
   "execution_count": null,
   "metadata": {},
   "outputs": [],
   "source": [
    "# Задание 6\n",
    "\n",
    "user_input = input('Введите числа, разделяя их пробелом: ')\n",
    "input_list = user_input.split()\n",
    "repeated_values = []\n",
    "\n",
    "for i in input_list:\n",
    "    if input_list.count(i) >= 2:\n",
    "        repeated_values.append(i)\n",
    "print(sorted(set(repeated_values)))"
   ]
  }
 ],
 "metadata": {
  "kernelspec": {
   "display_name": "Python 3",
   "language": "python",
   "name": "python3"
  },
  "language_info": {
   "codemirror_mode": {
    "name": "ipython",
    "version": 3
   },
   "file_extension": ".py",
   "mimetype": "text/x-python",
   "name": "python",
   "nbconvert_exporter": "python",
   "pygments_lexer": "ipython3",
   "version": "3.8.5"
  }
 },
 "nbformat": 4,
 "nbformat_minor": 4
}
